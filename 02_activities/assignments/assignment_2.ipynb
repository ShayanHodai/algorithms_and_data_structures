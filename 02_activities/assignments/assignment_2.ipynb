{
 "cells": [
  {
   "cell_type": "markdown",
   "metadata": {},
   "source": [
    "\n",
    "\n",
    "### Paraphrase the problem in your own words.\n"
   ]
  },
  {
   "cell_type": "markdown",
   "metadata": {},
   "source": [
    "Given a binary tree, how do we find if it contains any duplicate values? If it has one duplicate value, return it. If it has multiple duplicate values, return the closest one to the root. And if there is no duplicate value, return -1\""
   ]
  },
  {
   "cell_type": "markdown",
   "metadata": {},
   "source": [
    "\n",
    "### Create 1 new example that demonstrates you understand the problem. Trace/walkthrough 1 example that your partner made and explain it.\n"
   ]
  },
  {
   "cell_type": "markdown",
   "metadata": {},
   "source": [
    "root = [1, 2, 4, 2, 3, 4, 8]\n",
    "\n",
    "output should be 2"
   ]
  },
  {
   "cell_type": "markdown",
   "metadata": {},
   "source": [
    "\n",
    "### Copy the solution your partner wrote. \n"
   ]
  },
  {
   "cell_type": "code",
   "execution_count": null,
   "metadata": {},
   "outputs": [],
   "source": [
    "# Your answer here\n",
    "# Definition for a binary tree node.\n",
    "class TreeNode(object):\n",
    "    def __init__(self, val=0, left=None, right=None):\n",
    "        self.val = val\n",
    "        self.left = left\n",
    "        self.right = right\n",
    "\n",
    "def is_symmetric(root: TreeNode) -> int:\n",
    "    \"\"\"\n",
    "    Checks if a binary tree contains duplicates. Returns the duplicate value\n",
    "    closest to the root. If no duplicates exist, returns -1.\n",
    "    \n",
    "    :param root: TreeNode, the root of the binary tree\n",
    "    :return: int, the duplicate value closest to the root or -1 if no duplicates exist\n",
    "    \"\"\"\n",
    "    if not root:  # Handle an empty tree\n",
    "        return -1\n",
    "\n",
    "    # Initialize queue for BFS and a set for tracking seen values\n",
    "    queue = [root]\n",
    "    seen = set()\n",
    "\n",
    "    while queue:\n",
    "        # Dequeue the front node\n",
    "        node = queue.pop(0)\n",
    "\n",
    "        # Check for duplicate\n",
    "        if node.val in seen:\n",
    "            return node.val\n",
    "        seen.add(node.val)\n",
    "\n",
    "        # Enqueue the left and right children if they exist\n",
    "        if node.left:\n",
    "            queue.append(node.left)\n",
    "        if node.right:\n",
    "            queue.append(node.right)\n",
    "\n",
    "    # If no duplicates were found, return -1\n",
    "    return -1\n",
    "\n",
    "# Helper function to construct binary tree from list\n",
    "def create_binary_tree(values):\n",
    "    if not values:\n",
    "        return None\n",
    "    nodes = [TreeNode(val) if val is not None else None for val in values]\n",
    "    kids = nodes[::-1]\n",
    "    root = kids.pop()\n",
    "    for node in nodes:\n",
    "        if node:\n",
    "            if kids:\n",
    "                node.left = kids.pop()\n",
    "            if kids:\n",
    "                node.right = kids.pop()\n",
    "    return root"
   ]
  },
  {
   "cell_type": "markdown",
   "metadata": {},
   "source": [
    "\n",
    "### Explain why their solution works in your own words.\n"
   ]
  },
  {
   "cell_type": "markdown",
   "metadata": {},
   "source": [
    "This code works because it finds duplicates in a binary tree by searching level by level, starting from the root. It uses a Breadth-First Search (BFS) approach, which ensures that we check nodes closest to the root first before moving deeper into the tree. This is important because the problem asks us to return the closest duplicate to the root.\n",
    "To keep track of values we’ve already seen, the code uses a set called seen. As we visit each node, we check if its value is already in seen. If it is, we know we’ve found a duplicate, and since BFS checks nodes in order of their distance from the root, this will be the closest duplicate. At that point, the function immediately returns the duplicate value.\n",
    "If the value is not in seen, we add it to the set and continue checking the node's left and right children by adding them to a queue. This queue ensures that we process nodes in the correct order.\n",
    "Finally, if we finish traversing the entire tree and don’t find any duplicates, the function returns -1 to indicate there are no duplicates."
   ]
  },
  {
   "cell_type": "markdown",
   "metadata": {},
   "source": [
    "\n",
    "### Explain the problem’s time and space complexity in your own words.\n"
   ]
  },
  {
   "cell_type": "markdown",
   "metadata": {},
   "source": [
    "The time complexity of this code is O(n), where n is the number of nodes in the binary tree. This is because we visit each node exactly once to check its value and add its children to the queue. Since we don’t revisit any nodes, the total time spent is directly proportional to the number of nodes.\n",
    "The space complexity comes from two things:\n",
    "1. Queue: The queue holds all the nodes at a particular level before moving to the next level. In the worst case, this could be half the nodes in the tree (if the tree is a complete binary tree). So, the queue takes up space proportional to O(n) in the worst case.\n",
    "2. Set: The seen set stores the values of all the nodes we’ve visited. In the worst case, all the nodes have unique values, so the set size will also grow to O(n).\n",
    "\n",
    "Together, the queue and set give a space complexity of O(n)."
   ]
  },
  {
   "cell_type": "markdown",
   "metadata": {},
   "source": [
    "### Critique your partner's solution, including explanation, and if there is anything that should be adjusted.\n"
   ]
  },
  {
   "cell_type": "markdown",
   "metadata": {},
   "source": [
    "The code works well, and it's easy to understand. However, more comments on the code would be better. Also, the function's name which is is_symmetric, can be changed because it's unrelated to what the function does. A more descriptive name like find_closest_duplicate would make the purpose of the code clearer."
   ]
  },
  {
   "cell_type": "markdown",
   "metadata": {},
   "source": [
    "\n",
    "### Reflection "
   ]
  },
  {
   "cell_type": "markdown",
   "metadata": {},
   "source": [
    "Great coding and problem solving experience. Focusing on binary trees, I initially struggled with managing the paths during recursion, but breaking the problem into smaller steps helped. I focused on understanding depth-first search (DFS) and how it naturally handles branching structures like trees. Testing the code and validating its output gave me a better understanding of how my solution works in practice. I could see how different tree structures affected the output and whether it was anticipated. This hands-on testing solidified my understanding.\n",
    "Reviewing my partner's code was also a great learning experience. Their code works well, and it's well structured, making it easy to understand. However, as suggested above, there is room to improve. As a whole, a great experience. I learnt about algorithms and data structure, coding, and testing, and I tried to understand someone's thoughts."
   ]
  }
 ],
 "metadata": {
  "language_info": {
   "name": "python"
  }
 },
 "nbformat": 4,
 "nbformat_minor": 2
}
